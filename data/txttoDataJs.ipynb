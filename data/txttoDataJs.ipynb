{
 "cells": [
  {
   "cell_type": "code",
   "execution_count": 5,
   "metadata": {},
   "outputs": [],
   "source": [
    "lines = None\n",
    "with open('data.txt', 'r') as fh:\n",
    "    lines = fh.readlines()"
   ]
  },
  {
   "cell_type": "code",
   "execution_count": 27,
   "metadata": {},
   "outputs": [],
   "source": [
    "new_lines = []\n",
    "new_line_items = []\n",
    "for line in lines:\n",
    "    if line == '----------------------------------------\\n':\n",
    "        if len(new_line_items) != 0:\n",
    "            new_lines.append(\"[\" + \",\".join(new_line_items) + \"]\")\n",
    "#             print(new_lines[-1])\n",
    "        new_line_items = []\n",
    "        continue\n",
    "    if line.startswith('record_id:'):\n",
    "        continue\n",
    "    new_line_items.append('\"' + line.strip().replace('\"', '\\\\\"') + '\"')"
   ]
  },
  {
   "cell_type": "code",
   "execution_count": 28,
   "metadata": {},
   "outputs": [],
   "source": [
    "new_data_js = \"[\" + \",\\n\".join(new_lines) + \"]\"\n",
    "with open('just_data.js','w') as fh:\n",
    "    fh.writelines(new_data_js)"
   ]
  },
  {
   "cell_type": "code",
   "execution_count": null,
   "metadata": {},
   "outputs": [],
   "source": []
  }
 ],
 "metadata": {
  "kernelspec": {
   "display_name": "Python 3",
   "language": "python",
   "name": "python3"
  },
  "language_info": {
   "codemirror_mode": {
    "name": "ipython",
    "version": 3
   },
   "file_extension": ".py",
   "mimetype": "text/x-python",
   "name": "python",
   "nbconvert_exporter": "python",
   "pygments_lexer": "ipython3",
   "version": "3.7.6"
  }
 },
 "nbformat": 4,
 "nbformat_minor": 4
}
